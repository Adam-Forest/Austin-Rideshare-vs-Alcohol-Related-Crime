{
 "cells": [
  {
   "cell_type": "code",
   "execution_count": 29,
   "metadata": {},
   "outputs": [],
   "source": [
    "# Dependencies and Setup\n",
    "import gmaps\n",
    "import pandas as pd\n",
    "import requests\n",
    "import json\n",
    "import numpy as np\n",
    "\n",
    "# Google developer API key\n",
    "from api_config import g_key\n",
    "\n",
    "# Access maps with unique API key\n",
    "gmaps.configure(api_key=g_key)"
   ]
  },
  {
   "cell_type": "code",
   "execution_count": 2,
   "metadata": {},
   "outputs": [],
   "source": [
    "# Read clean and bounded ride data File and store into Pandas data frame\n",
    "ride_data = pd.read_csv(\"Data/Rides_Data_Clean_Bounded.csv\")\n",
    "\n",
    "# Read CrimeFile and store into Pandas data frame\n",
    "crime_data = pd.read_csv(\"Data/Crime_Reports_Clean.csv\")"
   ]
  },
  {
   "cell_type": "code",
   "execution_count": 3,
   "metadata": {},
   "outputs": [],
   "source": [
    "# Use google places API to find top 60 bar locations\n",
    "# Target city (Austin lat long)\n",
    "target_city = \"30.267153,-97.7430608\"\n",
    "typeplace=\"bar\"\n",
    "\n",
    "# Build the endpoint URL\n",
    "target_url = \"https://maps.googleapis.com/maps/api/place/nearbysearch/json?location=%s&radius=10000&sensor=true&type=%s&key=%s\"%(target_city,typeplace,g_key)"
   ]
  },
  {
   "cell_type": "code",
   "execution_count": 4,
   "metadata": {},
   "outputs": [],
   "source": [
    "# request google places data\n",
    "place_data = requests.get(target_url).json()"
   ]
  },
  {
   "cell_type": "code",
   "execution_count": 5,
   "metadata": {},
   "outputs": [],
   "source": [
    "# populate variables with location data of Austin bars from placces API\n",
    "lat=[]\n",
    "long=[]\n",
    "\n",
    "for results in place_data[\"results\"]:\n",
    "    lat.append(results[\"geometry\"][\"location\"][\"lat\"])\n",
    "    long.append(results[\"geometry\"][\"location\"][\"lng\"])\n",
    "\n",
    "# google places API returns 20 per request with a next page token if more results are available\n",
    "# expectation is that 3 pages (60 locations) will be available.\n",
    "\n",
    "next_page=place_data[\"next_page_token\"]"
   ]
  },
  {
   "cell_type": "code",
   "execution_count": 6,
   "metadata": {},
   "outputs": [],
   "source": [
    "# request next 20 bars from google places with next page token\n",
    "target_url = \"https://maps.googleapis.com/maps/api/place/nearbysearch/json?pagetoken=%s&key=%s\"%(next_page,g_key)\n",
    "place_data = requests.get(target_url).json()"
   ]
  },
  {
   "cell_type": "code",
   "execution_count": 7,
   "metadata": {},
   "outputs": [],
   "source": [
    "# add next 20 bars to variables\n",
    "for results in place_data[\"results\"]:\n",
    "    lat.append(results[\"geometry\"][\"location\"][\"lat\"])\n",
    "    long.append(results[\"geometry\"][\"location\"][\"lng\"])\n",
    "    \n",
    "next_page=place_data[\"next_page_token\"]"
   ]
  },
  {
   "cell_type": "code",
   "execution_count": 8,
   "metadata": {},
   "outputs": [],
   "source": [
    "# request next 20 bars from google places with next page token\n",
    "target_url = \"https://maps.googleapis.com/maps/api/place/nearbysearch/json?pagetoken=%s&key=%s\"%(next_page,g_key)\n",
    "place_data = requests.get(target_url).json()"
   ]
  },
  {
   "cell_type": "code",
   "execution_count": 9,
   "metadata": {},
   "outputs": [],
   "source": [
    "# add next 20 bars to variables\n",
    "for results in place_data[\"results\"]:\n",
    "    lat.append(results[\"geometry\"][\"location\"][\"lat\"])\n",
    "    long.append(results[\"geometry\"][\"location\"][\"lng\"])"
   ]
  },
  {
   "cell_type": "code",
   "execution_count": 10,
   "metadata": {},
   "outputs": [],
   "source": [
    "# make datafram of bar locations\n",
    "bar_locations_df = pd.DataFrame()\n",
    "bar_locations_df['lat']  = lat\n",
    "bar_locations_df['long']  = long"
   ]
  },
  {
   "cell_type": "code",
   "execution_count": 11,
   "metadata": {},
   "outputs": [
    {
     "data": {
      "text/plain": [
       "lat     60\n",
       "long    60\n",
       "dtype: int64"
      ]
     },
     "execution_count": 11,
     "metadata": {},
     "output_type": "execute_result"
    }
   ],
   "source": [
    "# check number of bar locations collected\n",
    "bar_locations_df.count()"
   ]
  },
  {
   "cell_type": "code",
   "execution_count": 12,
   "metadata": {},
   "outputs": [
    {
     "data": {
      "text/html": [
       "<div>\n",
       "<style scoped>\n",
       "    .dataframe tbody tr th:only-of-type {\n",
       "        vertical-align: middle;\n",
       "    }\n",
       "\n",
       "    .dataframe tbody tr th {\n",
       "        vertical-align: top;\n",
       "    }\n",
       "\n",
       "    .dataframe thead th {\n",
       "        text-align: right;\n",
       "    }\n",
       "</style>\n",
       "<table border=\"1\" class=\"dataframe\">\n",
       "  <thead>\n",
       "    <tr style=\"text-align: right;\">\n",
       "      <th></th>\n",
       "      <th>Latitude</th>\n",
       "      <th>Longitude</th>\n",
       "    </tr>\n",
       "  </thead>\n",
       "  <tbody>\n",
       "    <tr>\n",
       "      <th>5169</th>\n",
       "      <td>30.270560</td>\n",
       "      <td>-97.736735</td>\n",
       "    </tr>\n",
       "    <tr>\n",
       "      <th>3237</th>\n",
       "      <td>30.200441</td>\n",
       "      <td>-97.764447</td>\n",
       "    </tr>\n",
       "    <tr>\n",
       "      <th>6203</th>\n",
       "      <td>30.218296</td>\n",
       "      <td>-97.755799</td>\n",
       "    </tr>\n",
       "    <tr>\n",
       "      <th>1743</th>\n",
       "      <td>30.346646</td>\n",
       "      <td>-97.696573</td>\n",
       "    </tr>\n",
       "    <tr>\n",
       "      <th>1321</th>\n",
       "      <td>30.326516</td>\n",
       "      <td>-97.726568</td>\n",
       "    </tr>\n",
       "  </tbody>\n",
       "</table>\n",
       "</div>"
      ],
      "text/plain": [
       "       Latitude  Longitude\n",
       "5169  30.270560 -97.736735\n",
       "3237  30.200441 -97.764447\n",
       "6203  30.218296 -97.755799\n",
       "1743  30.346646 -97.696573\n",
       "1321  30.326516 -97.726568"
      ]
     },
     "execution_count": 12,
     "metadata": {},
     "output_type": "execute_result"
    }
   ],
   "source": [
    "# data samples are too large to create useful charts so we will take a random sample of 1500 entries from each\n",
    "crime_locations = crime_data[['Latitude','Longitude']].sample(n=1500, random_state=1 )\n",
    "crime_locations.head()"
   ]
  },
  {
   "cell_type": "code",
   "execution_count": 13,
   "metadata": {},
   "outputs": [],
   "source": [
    "# data samples are too large to create useful charts so we will take a random sample of 1500 entries from each\n",
    "locations = ride_data[[\"start_location_lat\", \"start_location_long\"]].sample(n=1500, random_state=1 )\n",
    "\n",
    "# drop locations collected but the data is not currently useful for our charts\n",
    "drop_locations = ride_data[[\"end_location_lat\", \"end_location_long\"]].sample(n=1500, random_state=1 )"
   ]
  },
  {
   "cell_type": "code",
   "execution_count": 14,
   "metadata": {},
   "outputs": [
    {
     "name": "stdout",
     "output_type": "stream",
     "text": [
      "start_location_lat     1500\n",
      "start_location_long    1500\n",
      "dtype: int64\n",
      "Latitude     1500\n",
      "Longitude    1500\n",
      "dtype: int64\n"
     ]
    }
   ],
   "source": [
    "# check random sample counts\n",
    "print(locations.count())\n",
    "print(crime_locations.count())"
   ]
  },
  {
   "cell_type": "code",
   "execution_count": 32,
   "metadata": {
    "scrolled": true
   },
   "outputs": [
    {
     "data": {
      "application/vnd.jupyter.widget-view+json": {
       "model_id": "d81dd2dc6b13448c9d2fee6f6cb63227",
       "version_major": 2,
       "version_minor": 0
      },
      "text/plain": [
       "Figure(layout=FigureLayout(height='420px'))"
      ]
     },
     "metadata": {},
     "output_type": "display_data"
    }
   ],
   "source": [
    "# Crime locatijons by point with heatmap of rideshare pickups\n",
    "fig = gmaps.figure(zoom_level=13, center=(30.2672,-97.7431))\n",
    "\n",
    "# symbol layer of crime locations\n",
    "symbol_layer = gmaps.symbol_layer(crime_locations, fill_color='white', stroke_color='blue', scale=2, stroke_opacity=.25)\n",
    "\n",
    "# heat layer of rideshare pickup\n",
    "heat_layer = gmaps.heatmap_layer(locations, dissipating=True, max_intensity=1,point_radius=12)\n",
    "\n",
    "# Add symbol layer\n",
    "fig.add_layer(symbol_layer)\n",
    "\n",
    "# Add heatmap layer\n",
    "fig.add_layer(heat_layer)\n",
    "\n",
    "# Display figure\n",
    "fig\n"
   ]
  },
  {
   "cell_type": "code",
   "execution_count": 16,
   "metadata": {},
   "outputs": [
    {
     "data": {
      "application/vnd.jupyter.widget-view+json": {
       "model_id": "2af8e42e97b8413d979e4ec80155df96",
       "version_major": 2,
       "version_minor": 0
      },
      "text/plain": [
       "Figure(layout=FigureLayout(height='420px'))"
      ]
     },
     "metadata": {},
     "output_type": "display_data"
    }
   ],
   "source": [
    "# Rideshare locatijons by point with heatmap of crime locations\n",
    "fig = gmaps.figure(zoom_level=13, center=(30.2672,-97.7431))\n",
    "\n",
    "# Create symbol layer ride share locations\n",
    "symbol_layer = gmaps.symbol_layer(locations, fill_color='white', stroke_color='blue', scale=2, stroke_opacity=.25)\n",
    "\n",
    "# Create heat layer of crime locations\n",
    "heat_layer = gmaps.heatmap_layer(crime_locations, dissipating=True, max_intensity=1,point_radius=12)\n",
    "\n",
    "# add symbol layer\n",
    "fig.add_layer(symbol_layer)\n",
    "\n",
    "# add hgeatmap\n",
    "fig.add_layer(heat_layer)\n",
    "\n",
    "# Display figure\n",
    "fig"
   ]
  },
  {
   "cell_type": "code",
   "execution_count": 17,
   "metadata": {},
   "outputs": [
    {
     "data": {
      "application/vnd.jupyter.widget-view+json": {
       "model_id": "ac6aff815017451cbe4a8e3874e2b5b4",
       "version_major": 2,
       "version_minor": 0
      },
      "text/plain": [
       "Figure(layout=FigureLayout(height='420px'))"
      ]
     },
     "metadata": {},
     "output_type": "display_data"
    }
   ],
   "source": [
    "# Rideshare dropoff locations by point with heatmap of crime pickups (not used in presentation)\n",
    "fig = gmaps.figure(zoom_level=13, center=(30.2672,-97.7431))\n",
    "\n",
    "# ride share drop off symbol layer\n",
    "symbol_layer = gmaps.symbol_layer(drop_locations, fill_color='white', stroke_color='green', scale=2, stroke_opacity=.25)\n",
    "\n",
    "# Create heat layer\n",
    "heat_layer = gmaps.heatmap_layer(crime_locations, dissipating=True, max_intensity=1,point_radius=12)\n",
    "\n",
    "# Create symbol layer\n",
    "fig.add_layer(symbol_layer)\n",
    "\n",
    "# Add heat layer\n",
    "fig.add_layer(heat_layer)\n",
    "\n",
    "# Display figure\n",
    "fig"
   ]
  },
  {
   "cell_type": "code",
   "execution_count": 18,
   "metadata": {},
   "outputs": [
    {
     "data": {
      "application/vnd.jupyter.widget-view+json": {
       "model_id": "e19c28e52bb34f6a8f71dfac33f20d24",
       "version_major": 2,
       "version_minor": 0
      },
      "text/plain": [
       "Figure(layout=FigureLayout(height='420px'))"
      ]
     },
     "metadata": {},
     "output_type": "display_data"
    }
   ],
   "source": [
    "# Plot bar locations against crime heat map\n",
    "fig = gmaps.figure(zoom_level=13, center=(30.2672,-97.7431))\n",
    "\n",
    "# symbol layer of bar locations\n",
    "symbol_layer = gmaps.symbol_layer(bar_locations_df, fill_color='white', stroke_color='blue', scale=4, stroke_opacity=.25)\n",
    "\n",
    "# Create heat layer of crime\n",
    "heat_layer = gmaps.heatmap_layer(crime_locations, dissipating=True, max_intensity=1,point_radius=12)\n",
    "\n",
    "# add bar locations\n",
    "fig.add_layer(symbol_layer)\n",
    "\n",
    "# Add crime heatmap\n",
    "fig.add_layer(heat_layer)\n",
    "\n",
    "# Display figure\n",
    "fig"
   ]
  },
  {
   "cell_type": "code",
   "execution_count": 19,
   "metadata": {},
   "outputs": [
    {
     "data": {
      "application/vnd.jupyter.widget-view+json": {
       "model_id": "5848fd38f24149b29757271cdb6dd0fb",
       "version_major": 2,
       "version_minor": 0
      },
      "text/plain": [
       "Figure(layout=FigureLayout(height='420px'))"
      ]
     },
     "metadata": {},
     "output_type": "display_data"
    }
   ],
   "source": [
    "# Plot bar locations against rideshare heat map\n",
    "fig = gmaps.figure(zoom_level=13, center=(30.2672,-97.7431))\n",
    "\n",
    "# symbol layer of bar locations\n",
    "symbol_layer = gmaps.symbol_layer(bar_locations_df, fill_color='white', stroke_color='blue', scale=4, stroke_opacity=.25)\n",
    "\n",
    "# Create heat layer of ride share\n",
    "heat_layer = gmaps.heatmap_layer(locations, dissipating=True, max_intensity=1,point_radius=12)\n",
    "\n",
    "#fig.add_layer(markers)\n",
    "fig.add_layer(symbol_layer)\n",
    "\n",
    "# Add layer\n",
    "fig.add_layer(heat_layer)\n",
    "\n",
    "# Display figure\n",
    "fig"
   ]
  }
 ],
 "metadata": {
  "kernelspec": {
   "display_name": "Python [conda env:.conda-PythonData] *",
   "language": "python",
   "name": "conda-env-.conda-PythonData-py"
  },
  "language_info": {
   "codemirror_mode": {
    "name": "ipython",
    "version": 3
   },
   "file_extension": ".py",
   "mimetype": "text/x-python",
   "name": "python",
   "nbconvert_exporter": "python",
   "pygments_lexer": "ipython3",
   "version": "3.6.8"
  }
 },
 "nbformat": 4,
 "nbformat_minor": 2
}
