{
 "cells": [
  {
   "cell_type": "code",
   "execution_count": 1,
   "metadata": {},
   "outputs": [],
   "source": [
    "# clean up ride share data\n",
    "# Dependencies and Setup\n",
    "import pandas as pd\n",
    "\n",
    "# Read Ride Share File and store into Pandas data frame\n",
    "# Read in Austin ride share data\n",
    "ridea_dat_a = pd.read_csv(\"Data/Rides_DataA.csv\")"
   ]
  },
  {
   "cell_type": "code",
   "execution_count": 2,
   "metadata": {},
   "outputs": [
    {
     "data": {
      "text/html": [
       "<div>\n",
       "<style scoped>\n",
       "    .dataframe tbody tr th:only-of-type {\n",
       "        vertical-align: middle;\n",
       "    }\n",
       "\n",
       "    .dataframe tbody tr th {\n",
       "        vertical-align: top;\n",
       "    }\n",
       "\n",
       "    .dataframe thead th {\n",
       "        text-align: right;\n",
       "    }\n",
       "</style>\n",
       "<table border=\"1\" class=\"dataframe\">\n",
       "  <thead>\n",
       "    <tr style=\"text-align: right;\">\n",
       "      <th></th>\n",
       "      <th>RIDE_ID</th>\n",
       "      <th>started_on</th>\n",
       "      <th>created_date</th>\n",
       "      <th>updated_date</th>\n",
       "      <th>completed_on</th>\n",
       "      <th>distance_travelled</th>\n",
       "      <th>end_location_lat</th>\n",
       "      <th>end_location_long</th>\n",
       "      <th>driver_rating</th>\n",
       "      <th>rider_rating</th>\n",
       "      <th>...</th>\n",
       "      <th>charity_id</th>\n",
       "      <th>requested_car_category</th>\n",
       "      <th>free_credit_used</th>\n",
       "      <th>surge_factor</th>\n",
       "      <th>start_location_long</th>\n",
       "      <th>start_location_lat</th>\n",
       "      <th>rider_id</th>\n",
       "      <th>round_up_amount</th>\n",
       "      <th>promocode_redemption_id</th>\n",
       "      <th>driver_reached_on</th>\n",
       "    </tr>\n",
       "  </thead>\n",
       "  <tbody>\n",
       "    <tr>\n",
       "      <th>0</th>\n",
       "      <td>0</td>\n",
       "      <td>2016-06-04 00:18:49-05:00</td>\n",
       "      <td>2016-06-04 00:10:19-05:00</td>\n",
       "      <td>2016-06-04 00:27:48-05:00</td>\n",
       "      <td>2016-06-04 00:27:32-05:00</td>\n",
       "      <td>8459.0</td>\n",
       "      <td>38.676</td>\n",
       "      <td>-121.039</td>\n",
       "      <td>5.0</td>\n",
       "      <td>5.0</td>\n",
       "      <td>...</td>\n",
       "      <td>NaN</td>\n",
       "      <td>b'REGULAR'</td>\n",
       "      <td>NaN</td>\n",
       "      <td>0.0</td>\n",
       "      <td>-121.071</td>\n",
       "      <td>38.655</td>\n",
       "      <td>0</td>\n",
       "      <td>NaN</td>\n",
       "      <td>NaN</td>\n",
       "      <td>2016-06-04 00:14:11-05:00</td>\n",
       "    </tr>\n",
       "    <tr>\n",
       "      <th>1</th>\n",
       "      <td>1</td>\n",
       "      <td>2016-06-04 01:50:12-05:00</td>\n",
       "      <td>2016-06-04 01:47:39-05:00</td>\n",
       "      <td>2016-06-04 01:52:00-05:00</td>\n",
       "      <td>2016-06-04 01:51:49-05:00</td>\n",
       "      <td>443.0</td>\n",
       "      <td>38.676</td>\n",
       "      <td>-121.039</td>\n",
       "      <td>5.0</td>\n",
       "      <td>5.0</td>\n",
       "      <td>...</td>\n",
       "      <td>NaN</td>\n",
       "      <td>b'REGULAR'</td>\n",
       "      <td>NaN</td>\n",
       "      <td>0.0</td>\n",
       "      <td>-121.038</td>\n",
       "      <td>38.679</td>\n",
       "      <td>0</td>\n",
       "      <td>NaN</td>\n",
       "      <td>NaN</td>\n",
       "      <td>2016-06-04 01:50:02-05:00</td>\n",
       "    </tr>\n",
       "    <tr>\n",
       "      <th>2</th>\n",
       "      <td>2</td>\n",
       "      <td>2016-06-04 03:16:02-05:00</td>\n",
       "      <td>2016-06-04 03:13:07-05:00</td>\n",
       "      <td>2016-06-04 03:18:07-05:00</td>\n",
       "      <td>2016-06-04 03:17:57-05:00</td>\n",
       "      <td>568.0</td>\n",
       "      <td>38.676</td>\n",
       "      <td>-121.039</td>\n",
       "      <td>3.0</td>\n",
       "      <td>5.0</td>\n",
       "      <td>...</td>\n",
       "      <td>NaN</td>\n",
       "      <td>b'REGULAR'</td>\n",
       "      <td>NaN</td>\n",
       "      <td>0.0</td>\n",
       "      <td>-121.042</td>\n",
       "      <td>38.678</td>\n",
       "      <td>0</td>\n",
       "      <td>NaN</td>\n",
       "      <td>NaN</td>\n",
       "      <td>2016-06-04 03:16:01-05:00</td>\n",
       "    </tr>\n",
       "    <tr>\n",
       "      <th>3</th>\n",
       "      <td>3</td>\n",
       "      <td>2016-06-04 10:05:13-05:00</td>\n",
       "      <td>2016-06-04 09:52:35-05:00</td>\n",
       "      <td>2016-06-04 10:14:00-05:00</td>\n",
       "      <td>2016-06-04 10:13:38-05:00</td>\n",
       "      <td>4051.0</td>\n",
       "      <td>30.271</td>\n",
       "      <td>-97.742</td>\n",
       "      <td>5.0</td>\n",
       "      <td>5.0</td>\n",
       "      <td>...</td>\n",
       "      <td>NaN</td>\n",
       "      <td>b'REGULAR'</td>\n",
       "      <td>NaN</td>\n",
       "      <td>0.0</td>\n",
       "      <td>-97.764</td>\n",
       "      <td>30.247</td>\n",
       "      <td>1</td>\n",
       "      <td>NaN</td>\n",
       "      <td>NaN</td>\n",
       "      <td>2016-06-04 10:01:19-05:00</td>\n",
       "    </tr>\n",
       "    <tr>\n",
       "      <th>4</th>\n",
       "      <td>4</td>\n",
       "      <td>2016-06-04 10:24:25-05:00</td>\n",
       "      <td>2016-06-04 10:23:25-05:00</td>\n",
       "      <td>2016-06-04 10:26:16-05:00</td>\n",
       "      <td>2016-06-04 10:26:07-05:00</td>\n",
       "      <td>790.0</td>\n",
       "      <td>30.269</td>\n",
       "      <td>-97.752</td>\n",
       "      <td>5.0</td>\n",
       "      <td>5.0</td>\n",
       "      <td>...</td>\n",
       "      <td>NaN</td>\n",
       "      <td>b'REGULAR'</td>\n",
       "      <td>NaN</td>\n",
       "      <td>0.0</td>\n",
       "      <td>-97.750</td>\n",
       "      <td>30.269</td>\n",
       "      <td>2</td>\n",
       "      <td>NaN</td>\n",
       "      <td>NaN</td>\n",
       "      <td>2016-06-04 10:24:15-05:00</td>\n",
       "    </tr>\n",
       "  </tbody>\n",
       "</table>\n",
       "<p>5 rows × 21 columns</p>\n",
       "</div>"
      ],
      "text/plain": [
       "   RIDE_ID                 started_on               created_date  \\\n",
       "0        0  2016-06-04 00:18:49-05:00  2016-06-04 00:10:19-05:00   \n",
       "1        1  2016-06-04 01:50:12-05:00  2016-06-04 01:47:39-05:00   \n",
       "2        2  2016-06-04 03:16:02-05:00  2016-06-04 03:13:07-05:00   \n",
       "3        3  2016-06-04 10:05:13-05:00  2016-06-04 09:52:35-05:00   \n",
       "4        4  2016-06-04 10:24:25-05:00  2016-06-04 10:23:25-05:00   \n",
       "\n",
       "                updated_date               completed_on  distance_travelled  \\\n",
       "0  2016-06-04 00:27:48-05:00  2016-06-04 00:27:32-05:00              8459.0   \n",
       "1  2016-06-04 01:52:00-05:00  2016-06-04 01:51:49-05:00               443.0   \n",
       "2  2016-06-04 03:18:07-05:00  2016-06-04 03:17:57-05:00               568.0   \n",
       "3  2016-06-04 10:14:00-05:00  2016-06-04 10:13:38-05:00              4051.0   \n",
       "4  2016-06-04 10:26:16-05:00  2016-06-04 10:26:07-05:00               790.0   \n",
       "\n",
       "   end_location_lat  end_location_long  driver_rating  rider_rating  ...  \\\n",
       "0            38.676           -121.039            5.0           5.0  ...   \n",
       "1            38.676           -121.039            5.0           5.0  ...   \n",
       "2            38.676           -121.039            3.0           5.0  ...   \n",
       "3            30.271            -97.742            5.0           5.0  ...   \n",
       "4            30.269            -97.752            5.0           5.0  ...   \n",
       "\n",
       "   charity_id  requested_car_category free_credit_used  surge_factor  \\\n",
       "0         NaN              b'REGULAR'              NaN           0.0   \n",
       "1         NaN              b'REGULAR'              NaN           0.0   \n",
       "2         NaN              b'REGULAR'              NaN           0.0   \n",
       "3         NaN              b'REGULAR'              NaN           0.0   \n",
       "4         NaN              b'REGULAR'              NaN           0.0   \n",
       "\n",
       "   start_location_long  start_location_lat  rider_id  round_up_amount  \\\n",
       "0             -121.071              38.655         0              NaN   \n",
       "1             -121.038              38.679         0              NaN   \n",
       "2             -121.042              38.678         0              NaN   \n",
       "3              -97.764              30.247         1              NaN   \n",
       "4              -97.750              30.269         2              NaN   \n",
       "\n",
       "   promocode_redemption_id          driver_reached_on  \n",
       "0                      NaN  2016-06-04 00:14:11-05:00  \n",
       "1                      NaN  2016-06-04 01:50:02-05:00  \n",
       "2                      NaN  2016-06-04 03:16:01-05:00  \n",
       "3                      NaN  2016-06-04 10:01:19-05:00  \n",
       "4                      NaN  2016-06-04 10:24:15-05:00  \n",
       "\n",
       "[5 rows x 21 columns]"
      ]
     },
     "execution_count": 2,
     "metadata": {},
     "output_type": "execute_result"
    }
   ],
   "source": [
    "# Check data for column names\n",
    "ridea_dat_a.head()"
   ]
  },
  {
   "cell_type": "code",
   "execution_count": 3,
   "metadata": {},
   "outputs": [
    {
     "data": {
      "text/plain": [
       "created_date           1494125\n",
       "end_location_lat       1494125\n",
       "end_location_long      1494125\n",
       "start_location_lat     1494125\n",
       "start_location_long    1494125\n",
       "dtype: int64"
      ]
     },
     "execution_count": 3,
     "metadata": {},
     "output_type": "execute_result"
    }
   ],
   "source": [
    "# Begin data clean up\n",
    "# Eliminate unescessary columns\n",
    "# Create new dataframe with only nescesary columns\n",
    "ride_data=ridea_dat_a[['created_date','end_location_lat','end_location_long','start_location_lat','start_location_long']]\n",
    "\n",
    "# Check row count\n",
    "ride_data.count()"
   ]
  },
  {
   "cell_type": "code",
   "execution_count": 4,
   "metadata": {},
   "outputs": [
    {
     "data": {
      "text/plain": [
       "created_date            object\n",
       "end_location_lat       float64\n",
       "end_location_long      float64\n",
       "start_location_lat     float64\n",
       "start_location_long    float64\n",
       "Date                    object\n",
       "dtype: object"
      ]
     },
     "execution_count": 4,
     "metadata": {},
     "output_type": "execute_result"
    }
   ],
   "source": [
    "# Remove empty entries\n",
    "ride_data=ride_data.dropna()\n",
    "\n",
    "# Make date object column for proper date sorting\n",
    "ride_data[\"Date\"]=pd.to_datetime(ridea_dat_a[\"created_date\"])\n",
    "\n",
    "# Double check data type is proper for date column\n",
    "ride_data.dtypes"
   ]
  },
  {
   "cell_type": "code",
   "execution_count": 5,
   "metadata": {},
   "outputs": [
    {
     "data": {
      "text/plain": [
       "created_date           1494125\n",
       "end_location_lat       1494125\n",
       "end_location_long      1494125\n",
       "start_location_lat     1494125\n",
       "start_location_long    1494125\n",
       "Date                   1494125\n",
       "dtype: int64"
      ]
     },
     "execution_count": 5,
     "metadata": {},
     "output_type": "execute_result"
    }
   ],
   "source": [
    "# Check counts\n",
    "ride_data.count()"
   ]
  },
  {
   "cell_type": "code",
   "execution_count": 6,
   "metadata": {},
   "outputs": [
    {
     "name": "stdout",
     "output_type": "stream",
     "text": [
      "2016-06-04 00:10:19-05:00\n",
      "2017-04-13 18:56:41-05:00\n"
     ]
    }
   ],
   "source": [
    "# Check min and max date for cleaning / matching crime data file\n",
    "print(min(ride_data['created_date']))\n",
    "print(max(ride_data['created_date']))"
   ]
  },
  {
   "cell_type": "code",
   "execution_count": 7,
   "metadata": {},
   "outputs": [],
   "source": [
    "# Save cleaned file \n",
    "ride_data.to_csv(\"Data/Rides_Data_Clean.csv\", encoding='utf-8')"
   ]
  }
 ],
 "metadata": {
  "kernelspec": {
   "display_name": "Python [conda env:.conda-PythonData] *",
   "language": "python",
   "name": "conda-env-.conda-PythonData-py"
  },
  "language_info": {
   "codemirror_mode": {
    "name": "ipython",
    "version": 3
   },
   "file_extension": ".py",
   "mimetype": "text/x-python",
   "name": "python",
   "nbconvert_exporter": "python",
   "pygments_lexer": "ipython3",
   "version": "3.6.8"
  }
 },
 "nbformat": 4,
 "nbformat_minor": 2
}
